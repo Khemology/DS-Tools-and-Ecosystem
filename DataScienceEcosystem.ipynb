{
 "cells": [
  {
   "cell_type": "markdown",
   "id": "f8b7ef13-00a9-4302-a46d-0c5478920eb4",
   "metadata": {},
   "source": [
    "# Data Science Tools and Ecosystem"
   ]
  },
  {
   "cell_type": "markdown",
   "id": "03208058-6dc4-4ebe-a901-5a0733e9bf77",
   "metadata": {},
   "source": [
    "## In this notebook, Data Science tools and Ecosystems are summarized. "
   ]
  },
  {
   "cell_type": "markdown",
   "id": "08450bf1-ea5c-493e-b6f7-ff4435889ac1",
   "metadata": {},
   "source": [
    "### Objectives:\n",
    "* List some of the popular languages Data Scientists use\n",
    "* List commonly used libraries used by Data Scientists\n",
    "* List some of the popular Tools used by Data Scientists \n",
    "* Evaluating arithmetic expressions in Python"
   ]
  },
  {
   "cell_type": "markdown",
   "id": "e1f68e5f-d9f8-4fa5-a0f7-f3c93e169aa7",
   "metadata": {},
   "source": [
    "### Some of the popular languages that Data Scientists use are:\n",
    "1. Python\n",
    "2. R\n",
    "3. SQL"
   ]
  },
  {
   "cell_type": "markdown",
   "id": "c76bd6c5-6ec4-4702-8636-3c7cdf82835d",
   "metadata": {
    "tags": []
   },
   "source": [
    "### Some of the commonly used libraries used by Data Scientists include: \n",
    "1. Panads \n",
    "2. Keras \n",
    "3. PyTorch \n",
    "4. NumPy"
   ]
  },
  {
   "cell_type": "markdown",
   "id": "dd5795bd-57c1-4b79-916e-2d4bb3f12e5b",
   "metadata": {},
   "source": [
    "|Data Science Tools|\n",
    "|------------------|\n",
    "|Apache Spark|\n",
    "|RStudio|\n",
    "|Project Jupyter|"
   ]
  },
  {
   "cell_type": "markdown",
   "id": "7386a93e-5609-40bf-a355-ae80400129b8",
   "metadata": {},
   "source": [
    "### Below are a few examples of evaluating arithmetic expressions in Python"
   ]
  },
  {
   "cell_type": "code",
   "execution_count": 5,
   "id": "88b32a0f-7357-4bb0-8737-b003591cc1b9",
   "metadata": {
    "tags": []
   },
   "outputs": [
    {
     "data": {
      "text/plain": [
       "17"
      ]
     },
     "execution_count": 5,
     "metadata": {},
     "output_type": "execute_result"
    }
   ],
   "source": [
    "(3*4)+5\n",
    "# This a simple arithmetic expression to mutiply then add integers"
   ]
  },
  {
   "cell_type": "code",
   "execution_count": 9,
   "id": "691a6e6d-1dc9-43ea-8711-e759c26d37ea",
   "metadata": {
    "tags": []
   },
   "outputs": [
    {
     "data": {
      "text/plain": [
       "3.3333333333333335"
      ]
     },
     "execution_count": 9,
     "metadata": {},
     "output_type": "execute_result"
    }
   ],
   "source": [
    "(200/60)\n",
    "# his will convert 200 minutes to hours by diving by 60."
   ]
  },
  {
   "cell_type": "markdown",
   "id": "2f76c1a7-c72c-42e1-9982-c92c9cb07839",
   "metadata": {},
   "source": [
    "## Author\n",
    "Vernon Sanders"
   ]
  }
 ],
 "metadata": {
  "kernelspec": {
   "display_name": "Python",
   "language": "python",
   "name": "conda-env-python-py"
  },
  "language_info": {
   "codemirror_mode": {
    "name": "ipython",
    "version": 3
   },
   "file_extension": ".py",
   "mimetype": "text/x-python",
   "name": "python",
   "nbconvert_exporter": "python",
   "pygments_lexer": "ipython3",
   "version": "3.7.12"
  }
 },
 "nbformat": 4,
 "nbformat_minor": 5
}
